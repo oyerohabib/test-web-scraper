{
 "cells": [
  {
   "cell_type": "code",
   "execution_count": 20,
   "metadata": {},
   "outputs": [],
   "source": [
    "import requests, json, re, csv\n",
    "from bs4 import BeautifulSoup\n",
    "import pandas as pd"
   ]
  },
  {
   "cell_type": "code",
   "execution_count": 24,
   "metadata": {},
   "outputs": [
    {
     "name": "stdout",
     "output_type": "stream",
     "text": [
      "Enter your city: kanpur\n",
      "Top Restaurants in Kanpur | Zomato\n",
      "   Restaurants Black Ratings Red Ratings Address Cuisine\n",
      "1          NaN           NaN         NaN     NaN     NaN\n",
      "2          NaN           NaN         NaN     NaN     NaN\n",
      "3          NaN           NaN         NaN     NaN     NaN\n",
      "4          NaN           NaN         NaN     NaN     NaN\n",
      "5          NaN           NaN         NaN     NaN     NaN\n",
      "6          NaN           NaN         NaN     NaN     NaN\n",
      "7          NaN           NaN         NaN     NaN     NaN\n",
      "8          NaN           NaN         NaN     NaN     NaN\n",
      "9          NaN           NaN         NaN     NaN     NaN\n",
      "10         NaN           NaN         NaN     NaN     NaN\n",
      "11         NaN           NaN         NaN     NaN     NaN\n",
      "12         NaN           NaN         NaN     NaN     NaN\n",
      "13         NaN           NaN         NaN     NaN     NaN\n",
      "14         NaN           NaN         NaN     NaN     NaN\n",
      "15         NaN           NaN         NaN     NaN     NaN\n",
      "16         NaN           NaN         NaN     NaN     NaN\n",
      "17         NaN           NaN         NaN     NaN     NaN\n",
      "18         NaN           NaN         NaN     NaN     NaN\n",
      "19         NaN           NaN         NaN     NaN     NaN\n",
      "20         NaN           NaN         NaN     NaN     NaN\n",
      "21         NaN           NaN         NaN     NaN     NaN\n",
      "22         NaN           NaN         NaN     NaN     NaN\n",
      "23         NaN           NaN         NaN     NaN     NaN\n"
     ]
    }
   ],
   "source": [
    "city = input(\"Enter your city: \")\n",
    "url = \"https://www.zomato.com/\" + city + \"/top-restaurants\"\n",
    "header = {\"User-Agent\": \"Mozilla/5.0 (Windows NT 10.0; Win64; x64) AppleWebKit/537.36 (KHTML, like Gecko) Chrome/91.0.4472.77 Safari/537.36\"}\n",
    "response = requests.get(url, headers=header)\n",
    "\n",
    "html = response.text\n",
    "soup = BeautifulSoup(html, \"html.parser\")\n",
    "print(soup.title.text)\n",
    "\n",
    "# for element in images:\n",
    "#     img_attr = element.attrs['alt']\n",
    "#     print(img_attr)\n",
    "    \n",
    "restaurants = []\n",
    "address = []\n",
    "cuisine = []\n",
    "ratings_black = []\n",
    "ratings_red = []\n",
    "\n",
    "top_rest = soup.find(\"div\", class_=\"bke1zw-0 cMipmx\")\n",
    "restaurant_divs = top_rest.select(\"div > section > div\")\n",
    "\n",
    "for rdiv in restaurant_divs:\n",
    "    name = rdiv.find(\"a\", recursive=False).text.strip()\n",
    "    rating_div, address_div, cuisine_div = rdiv.find_all(\"div\", recursive=False)\n",
    "    ratings = re.findall(r\"([\\d\\.]+)\\(([\\d,]+)\\)\", rating_div.text)\n",
    "    black_rating = (float(ratings[0][0]), int(ratings[0][1].replace(',', ''))) if ratings else (None, None)\n",
    "    red_rating = (float(ratings[1][0]), int(ratings[1][1].replace(',', ''))) if len(ratings) > 1 else (None, None)\n",
    "\n",
    "    restaurants.append(name)\n",
    "    address.append(address_div.text)\n",
    "    cuisine.append(cuisine_div.text)\n",
    "    ratings_black.append(black_rating)\n",
    "    rating_red.append(red_rating)\n",
    "    \n",
    "#     restaurants.append({\"name\": name,\n",
    "#         \"ratings\": {\n",
    "#             \"black\": {\n",
    "#                 \"score\": black_rating[0],\n",
    "#                 \"votes\": black_rating[1]\n",
    "#                 },\n",
    "#             \"red\": {\n",
    "#                 \"score\": red_rating[0],\n",
    "#                 \"votes\": red_rating[1]\n",
    "#                 }\n",
    "#             },\n",
    "#         \"location\": address_div.text,\n",
    "#         \"cuisine\": cuisine_div.text\n",
    "#         })\n",
    "\n",
    "# with open('Top Restaurants in ' + 'city' + '.csv', 'w') as outfile:\n",
    "#     fields = [\"Restaurants\", \"Black Ratings\", \"Red Ratings\", \"Address\", \"Cuisine\"]\n",
    "#     writer = csv.DictWriter(outfile, fieldnames=fields)\n",
    "#     writer.writeheader()\n",
    "#     for x in range(0, len(restaurants)):\n",
    "#         writer.writerow(x)\n",
    "\n",
    "header = [\"Restaurants\", \"Black Ratings\", \"Red Ratings\", \"Address\", \"Cuisine\"]\n",
    "indices = [i for i in range(1, len(restaurants) + 1)]\n",
    "all_rests = zip(restaurants, ratings_black, ratings_red, address, cuisine)\n",
    "dt = pd.DataFrame(list(all_rests), index=indices, columns=header)\n",
    "dt.to_csv(\"Top restaurants in \" + city + \".csv\")\n",
    "print(dt)"
   ]
  },
  {
   "cell_type": "code",
   "execution_count": null,
   "metadata": {},
   "outputs": [],
   "source": []
  }
 ],
 "metadata": {
  "kernelspec": {
   "display_name": "Python 3",
   "language": "python",
   "name": "python3"
  },
  "language_info": {
   "codemirror_mode": {
    "name": "ipython",
    "version": 3
   },
   "file_extension": ".py",
   "mimetype": "text/x-python",
   "name": "python",
   "nbconvert_exporter": "python",
   "pygments_lexer": "ipython3",
   "version": "3.8.5"
  }
 },
 "nbformat": 4,
 "nbformat_minor": 4
}
