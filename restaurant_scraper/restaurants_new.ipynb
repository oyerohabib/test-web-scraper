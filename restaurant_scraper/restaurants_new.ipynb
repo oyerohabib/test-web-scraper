{
 "cells": [
  {
   "cell_type": "code",
   "execution_count": 3,
   "metadata": {},
   "outputs": [
    {
     "name": "stdout",
     "output_type": "stream",
     "text": [
      "Enter your city name : kanpur\n",
      "Top Restaurants in Kanpur | Zomato \n",
      "\n",
      "['', 'Grill Inn', 'Shyam Nagar', 'Quick Bites', 'Italian', '', 'Shri Bhojnalaya Restaurant & Sweets', 'Vijay Nagar', 'Quick Bites', 'North Indian', 'Chinese', 'Fast Food', 'Desserts', '', 'Barbeque Nation', 'Mall Road', 'Casual Dining', 'North Indian', 'Mughlai', 'Lebanese', 'Arabian', 'Mediterranean', '', 'Kukkad at Nukkad', 'Swaroop Nagar', 'Casual Dining', 'Mughlai', 'North Indian', '', 'Tadka The Food Hub', 'Kidwai Nagar Market', 'Quick Bites', 'Chinese', 'North Indian', 'South Indian', '', 'Smile Pizza', 'Kidwai Nagar', 'Quick Bites', 'Pizza', 'Fast Food', '', 'Arabian Broost Chicken', 'Chamanganj', 'Quick Bites', 'Arabian', '', 'Chachi Vaishno Dhaba', 'Nandlal Chawraha', 'Dhaba', 'North Indian', '', 'Barra House', 'Kanpur Cantt', 'Quick Bites', 'North Indian', 'Mughlai', '', \"Pashtun's\", 'Swaroop Nagar', 'Quick Bites', 'Kebab', 'North Indian', '', 'Agra Vala Sweets', 'Ashok Nagar', 'Quick Bites', 'Sweet Shop', 'Street Food', 'Mithai', '', 'Al-Baik.Com', 'Shyam Nagar', 'Quick Bites', 'Fast Food', '', 'The Imperial Cord', 'Kakadeo', 'Quick Bites', 'Fast Food', 'North Indian', '', 'Google Fast Food', 'Nandlal Chawraha', 'Quick Bites', 'Fast Food', 'Chinese', 'North Indian', '', 'Baba Foods', 'Swaroop Nagar', 'Quick Bites', 'North Indian', 'Biryani', 'Beverages', 'Desserts', '', 'R S Bhojnalaya', 'Kakadeo', 'Bhojanalya', 'North Indian', '', 'Kerela Cafe', 'IIT Kanpur', 'Quick Bites', 'South Indian', '', 'Mama Hotel', 'Swaroop Nagar', 'Quick Bites', 'North Indian', 'Beverages', '', 'Gyan Vaishnav', 'Ashok Nagar', 'Casual Dining', 'North Indian', '', 'New Pizza Yum', 'Kakadeo', 'Quick Bites', 'Pizza', 'Pro - Get 25% off', 'Offline Cafe', 'Tilak Nagar', 'Café', 'Cafe', 'North Indian', 'Fast Food', '', 'The Chocolate Room', 'Swaroop Nagar', 'Café', 'Dessert Parlor', 'Cafe', 'Desserts', 'Pro - Get 15% off', 'Mocha', 'Mall Road', 'Café', 'Casual Dining', 'Cafe']\n",
      "[]\n",
      "Empty DataFrame\n",
      "Columns: [Restraunt, Address, Cuisine, Ratings]\n",
      "Index: []\n"
     ]
    }
   ],
   "source": [
    "import requests\n",
    "from bs4 import BeautifulSoup\n",
    "import pandas as pd\n",
    "\n",
    "# https://www.whoishostingthis.com/tools/user-agent/\n",
    "\n",
    "city = input('Enter your city name : ')\n",
    "url = 'https://www.zomato.com/'+city+'/top-restaurants'\n",
    "header = {'User-Agent': 'Mozilla/5.0 (Windows NT 10.0; Win64; x64) AppleWebKit/537.36 (KHTML, like Gecko) Chrome/80.0.3987.122 Safari/537.36'}\n",
    "\n",
    "response = requests.get(url,headers=header)\n",
    "html = response.text\n",
    "\n",
    "soup = BeautifulSoup(html,'lxml')\n",
    "print(soup.title.text,'\\n')\n",
    "\n",
    "# scraping raw data and stroing it in a array\n",
    "\n",
    "top_rest = soup.find_all('div',class_=\"bke1zw-0 cMipmx\")\n",
    "arr = []\n",
    "\n",
    "for tr in top_rest:\n",
    "\trsts = tr.find_all('div',class_=\"bke1zw-1\")\n",
    "\tfor i in rsts:\n",
    "\t\tname = i.select('a',class_='sc-muxYx sc-euitrJ hIVRVA')\n",
    "\t\tfor k in name:\n",
    "\t\t\tarr.append(k.text)\n",
    "\tbreak\n",
    "\n",
    "print(arr)\n",
    "\n",
    "# rearranging restaurant data in a single list\n",
    "\n",
    "data = []\n",
    "temp = [arr[0]]\n",
    "for i in arr[1:]:\n",
    "\tif i.replace('.','',1).isdigit():\n",
    "\t\tdata.append(temp)\n",
    "\t\ttemp = [i]\n",
    "\telse:\n",
    "\t\ttemp.append(i)\n",
    "\n",
    "print(data)\n",
    "\n",
    "# strong different attributes in 4 lists\n",
    "\n",
    "restraunts = []\n",
    "address = []\n",
    "cuisine = []\n",
    "ratings = []\n",
    "\n",
    "for lst in data:\n",
    "\tratings.append(lst[0])\n",
    "\trestraunts.append(lst[1])\n",
    "\taddress.append(lst[2])\n",
    "\tcuisine.append(','.join(lst[3:]))\n",
    "\n",
    "\n",
    "header = ['Restraunt','Address','Cuisine','Ratings']\n",
    "indices = [i for i in range(1,len(restraunts)+1)]\n",
    "all_rests = zip(restraunts,address,cuisine,ratings)\n",
    "df = pd.DataFrame(list(all_rests),index=indices,columns=header)\n",
    "df.to_csv('Top restraunts in '+city+'.csv')\n",
    "print(df)"
   ]
  },
  {
   "cell_type": "code",
   "execution_count": null,
   "metadata": {},
   "outputs": [],
   "source": []
  }
 ],
 "metadata": {
  "kernelspec": {
   "display_name": "Python 3",
   "language": "python",
   "name": "python3"
  },
  "language_info": {
   "codemirror_mode": {
    "name": "ipython",
    "version": 3
   },
   "file_extension": ".py",
   "mimetype": "text/x-python",
   "name": "python",
   "nbconvert_exporter": "python",
   "pygments_lexer": "ipython3",
   "version": "3.8.5"
  }
 },
 "nbformat": 4,
 "nbformat_minor": 4
}
