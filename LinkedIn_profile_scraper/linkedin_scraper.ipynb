{
 "cells": [
  {
   "cell_type": "code",
   "execution_count": 2,
   "metadata": {},
   "outputs": [],
   "source": [
    "import requests, time, random\n",
    "from bs4 import BeautifulSoup\n",
    "from selenium import webdriver"
   ]
  },
  {
   "cell_type": "code",
   "execution_count": 2,
   "metadata": {},
   "outputs": [],
   "source": [
    "browser = webdriver.Chrome(\"C:\\Program Files (x86)\\chromedriver.exe\")\n",
    "browser.get(\"https://www.linkedin.com/login\")\n",
    "file = open(\"config.txt\")\n",
    "\n",
    "lines = file.readlines()\n",
    "\n",
    "username = lines[0]\n",
    "password = lines[1]\n",
    "\n",
    "elementID = browser.find_element_by_id(\"username\")\n",
    "elementID.send_keys(username)\n",
    "\n",
    "elementID = browser.find_element_by_id(\"password\")\n",
    "elementID.send_keys(password)\n",
    "\n",
    "elementID.submit()"
   ]
  },
  {
   "cell_type": "code",
   "execution_count": 3,
   "metadata": {},
   "outputs": [],
   "source": [
    "link = \"https://www.linkedin.com/in/habibulah-oyero-44069a193/\"\n",
    "browser.get(link)"
   ]
  },
  {
   "cell_type": "code",
   "execution_count": 4,
   "metadata": {},
   "outputs": [],
   "source": [
    "SCROLL_PAUSE_TIME = 5\n",
    "\n",
    "# get scroll height\n",
    "last_height = browser.execute_script(\"return document.body.scrollHeight\")\n",
    "\n",
    "for i in range(3):\n",
    "    # scroll down to bottom\n",
    "    browser.execute_script(\"window.scrollTo(0, document.scrollHeight);\")\n",
    "    \n",
    "    # wait to load page\n",
    "    time.sleep(SCROLL_PAUSE_TIME)\n",
    "    \n",
    "    # calculate new scroll height and compare with last scroll height\n",
    "    new_height = browser.execute_script(\"return document.body.scrollHeight\")\n",
    "    \n",
    "    if new_height == last_height:\n",
    "        break\n",
    "    last_height = new_height"
   ]
  },
  {
   "cell_type": "code",
   "execution_count": 5,
   "metadata": {},
   "outputs": [],
   "source": [
    "src = browser.page_source\n",
    "soup = BeautifulSoup(src, \"lxml\")"
   ]
  },
  {
   "cell_type": "code",
   "execution_count": 6,
   "metadata": {},
   "outputs": [],
   "source": [
    "name_div = soup.find(\"div\", {\"class\": \"pv-text-details__left-panel\"})\n",
    "name = name_div.find(\"h1\", {\"class\": \"text-heading-xlarge\"}).text.strip()\n",
    "profile = name_div.find(\"div\", {\"class\": \"text-body-medium\"}).text.strip()\n",
    "location = name_div.find(\"span\", {\"class\": \"text-body-small\"}).text.strip()\n",
    "connections = soup.find(\"li\", {\"li\", \"text-body-small\"}).text.strip()"
   ]
  },
  {
   "cell_type": "code",
   "execution_count": 7,
   "metadata": {},
   "outputs": [
    {
     "name": "stdout",
     "output_type": "stream",
     "text": [
      "['https://www.linkedin.com/in/habibulah-oyero-44069a193/', 'Habibulah Oyero', 'Full Stack Web and Mobile Developer.', 'Ogun, Nigeria', '321 connections']\n"
     ]
    }
   ],
   "source": [
    "info = []\n",
    "\n",
    "info.append(link)\n",
    "info.append(name)\n",
    "info.append(profile)\n",
    "info.append(location)\n",
    "info.append(connections)\n",
    "\n",
    "print(info)"
   ]
  },
  {
   "cell_type": "code",
   "execution_count": 11,
   "metadata": {},
   "outputs": [
    {
     "name": "stdout",
     "output_type": "stream",
     "text": [
      "Abeokuta, Ogun State\n",
      "Contract\n"
     ]
    }
   ],
   "source": [
    "html = \"\"\"<p class=\"pv-entity__secondary-title t-14 t-black t-normal\">\n",
    "      Abeokuta, Ogun State\n",
    "      <span class=\"pv-entity__secondary-title separator\">Contract</span>\n",
    "</p>\"\"\"\n",
    "\n",
    "soup = BeautifulSoup(html, \"html.parser\")\n",
    "\n",
    "print(\n",
    "    soup.find(\"p\", class_=\"pv-entity__secondary-title t-14 t-black t-normal\")\n",
    "    .contents[0].strip()\n",
    ")\n",
    "\n",
    "print(\n",
    "    soup.find(\"p\", class_=\"pv-entity__secondary-title t-14 t-black t-normal\")\n",
    "    .contents[1].text.strip()\n",
    ")"
   ]
  },
  {
   "cell_type": "code",
   "execution_count": null,
   "metadata": {},
   "outputs": [],
   "source": []
  }
 ],
 "metadata": {
  "kernelspec": {
   "display_name": "Python 3",
   "language": "python",
   "name": "python3"
  },
  "language_info": {
   "codemirror_mode": {
    "name": "ipython",
    "version": 3
   },
   "file_extension": ".py",
   "mimetype": "text/x-python",
   "name": "python",
   "nbconvert_exporter": "python",
   "pygments_lexer": "ipython3",
   "version": "3.8.5"
  }
 },
 "nbformat": 4,
 "nbformat_minor": 4
}
