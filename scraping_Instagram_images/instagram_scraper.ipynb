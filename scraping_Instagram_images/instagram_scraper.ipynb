{
 "cells": [
  {
   "cell_type": "code",
   "execution_count": 1,
   "metadata": {},
   "outputs": [],
   "source": [
    "from selenium import webdriver\n",
    "from selenium.webdriver.common.keys import Keys\n",
    "from selenium.webdriver.common.by import By\n",
    "from selenium.webdriver.support.ui import WebDriverWait\n",
    "from selenium.webdriver.support import expected_conditions as EC"
   ]
  },
  {
   "cell_type": "code",
   "execution_count": 2,
   "metadata": {},
   "outputs": [],
   "source": [
    "import os\n",
    "import wget"
   ]
  },
  {
   "cell_type": "code",
   "execution_count": 3,
   "metadata": {},
   "outputs": [],
   "source": [
    "driver = webdriver.Chrome(\"C:\\Program Files (x86)\\chromedriver.exe\")\n",
    "driver.get(\"https://www.instagram.com/\")"
   ]
  },
  {
   "cell_type": "code",
   "execution_count": 4,
   "metadata": {},
   "outputs": [],
   "source": [
    "username = WebDriverWait(driver, 10).until(EC.element_to_be_clickable((By.CSS_SELECTOR, \"input[name='username']\")))\n",
    "password = WebDriverWait(driver, 10).until(EC.element_to_be_clickable((By.CSS_SELECTOR, \"input[name='password']\")))\n",
    "\n",
    "username.clear()\n",
    "password.clear()\n",
    "\n",
    "username.send_keys(\"oyerohabib\")\n",
    "password.send_keys(\"OHOhabibo2305.\")"
   ]
  },
  {
   "cell_type": "code",
   "execution_count": 5,
   "metadata": {},
   "outputs": [],
   "source": [
    "log_in = WebDriverWait(driver, 10).until(EC.element_to_be_clickable((By.CSS_SELECTOR, \"button[type='submit']\"))).click()"
   ]
  },
  {
   "cell_type": "code",
   "execution_count": 6,
   "metadata": {},
   "outputs": [],
   "source": [
    "not_not = WebDriverWait(driver, 10).until(EC.element_to_be_clickable((By.XPATH, \"//button[contains(text(), 'Not Now')]\"))).click()"
   ]
  },
  {
   "cell_type": "code",
   "execution_count": 7,
   "metadata": {},
   "outputs": [],
   "source": [
    "not_not2 = WebDriverWait(driver, 10).until(EC.element_to_be_clickable((By.XPATH, \"//button[contains(text(), 'Not Now')]\"))).click() "
   ]
  },
  {
   "cell_type": "code",
   "execution_count": 9,
   "metadata": {
    "scrolled": true
   },
   "outputs": [],
   "source": [
    "searchbox = WebDriverWait(driver, 10).until(EC.element_to_be_clickable((By.XPATH, \"//input[@placeholder='Search']\")))\n",
    "searchbox.clear()\n",
    "keyword = \"#cat\"\n",
    "searchbox.send_keys(keyword)\n",
    "searchbox.send_keys(Keys.ENTER)\n",
    "searchbox.send_keys(Keys.ENTER)"
   ]
  },
  {
   "cell_type": "code",
   "execution_count": 13,
   "metadata": {},
   "outputs": [
    {
     "data": {
      "text/plain": [
       "['https://instagram.flos1-1.fna.fbcdn.net/v/t51.2885-15/e15/197328099_1440361182996637_8060614879549516400_n.jpg?tp=1&_nc_ht=instagram.flos1-1.fna.fbcdn.net&_nc_cat=101&_nc_ohc=Fs6q-b0inU0AX_pfZo0&tn=YsTa6ZvPU4SaOehN&edm=ABZsPhsBAAAA&ccb=7-4&oh=5f97a588b0a392a14ac79b25870e3ac7&oe=60C603B2&_nc_sid=4efc9f&ig_cache_key=MjU5MDc3NTI0Nzg0NTUzMDMxNA%3D%3D.2-ccb7-4',\n",
       " 'https://instagram.flos1-1.fna.fbcdn.net/v/t51.2885-15/e35/197928537_607370260237201_800867435522465156_n.jpg?tp=1&_nc_ht=instagram.flos1-1.fna.fbcdn.net&_nc_cat=101&_nc_ohc=xrMRLbGLgjIAX99FNl_&edm=ABZsPhsBAAAA&ccb=7-4&oh=2a5bca491751b04e8d01eaaea2089dad&oe=60C467D5&_nc_sid=4efc9f&ig_cache_key=MjU5MDgxMTQyOTczMTExODE0Mw%3D%3D.2-ccb7-4',\n",
       " 'https://instagram.flos1-1.fna.fbcdn.net/v/t51.2885-15/e35/198088456_527768038359567_448597429786018008_n.jpg?tp=1&_nc_ht=instagram.flos1-1.fna.fbcdn.net&_nc_cat=103&_nc_ohc=C7k5fI_ZK5YAX9dHmCB&tn=YsTa6ZvPU4SaOehN&edm=ABZsPhsBAAAA&ccb=7-4&oh=6b434f0160223067181bbcc1538cffd7&oe=60C5C12A&_nc_sid=4efc9f&ig_cache_key=MjU5MDc2MzE2MzEyMjU0MzQzNw%3D%3D.2-ccb7-4',\n",
       " 'https://instagram.flos1-1.fna.fbcdn.net/v/t51.2885-15/e35/197321422_341848617367827_1450756919452403092_n.jpg?tp=1&_nc_ht=instagram.flos1-1.fna.fbcdn.net&_nc_cat=103&_nc_ohc=nAKtLagwJXkAX8h1gHa&edm=ABZsPhsBAAAA&ccb=7-4&oh=a0b2cceb90b22f6a35e769b96d58199b&oe=60C42C89&_nc_sid=4efc9f&ig_cache_key=MjU5MDc3NjM2NTUwOTEzMjMzNg%3D%3D.2-ccb7-4',\n",
       " 'https://instagram.flos1-1.fna.fbcdn.net/v/t51.2885-15/e35/197843862_3900711386694406_2616803109373688486_n.jpg?tp=1&_nc_ht=instagram.flos1-1.fna.fbcdn.net&_nc_cat=110&_nc_ohc=uGaFSZWDkg4AX8ResNJ&edm=ABZsPhsBAAAA&ccb=7-4&oh=8cb33e9caaea6cc6953ddf688c5722e0&oe=60C549CD&_nc_sid=4efc9f&ig_cache_key=MjU5MDgxOTUxMzE4Njg0MDcwMQ%3D%3D.2-ccb7-4',\n",
       " 'https://instagram.flos1-1.fna.fbcdn.net/v/t51.2885-15/e35/197380062_209763734193570_7099763113003450508_n.jpg?tp=1&_nc_ht=instagram.flos1-1.fna.fbcdn.net&_nc_cat=106&_nc_ohc=lQoenBxdUPwAX8fASLr&edm=ABZsPhsBAAAA&ccb=7-4&oh=eff2d0dbe3121591e0ce0e7c6b1b9459&oe=60C47D20&_nc_sid=4efc9f&ig_cache_key=MjU5MDc2OTc3NjE2NTI3NDI1OA%3D%3D.2-ccb7-4',\n",
       " 'https://instagram.flos1-1.fna.fbcdn.net/v/t51.2885-15/e35/198621968_156090446500430_7184290415991545957_n.jpg?tp=1&_nc_ht=instagram.flos1-1.fna.fbcdn.net&_nc_cat=102&_nc_ohc=sprBiscKxNUAX8z745z&tn=YsTa6ZvPU4SaOehN&edm=ABZsPhsBAAAA&ccb=7-4&oh=8d32465b5d492eaa8bc78d84f5daafb2&oe=60C61073&_nc_sid=4efc9f&ig_cache_key=MjU5MDgzNzc5MDE3NjM3NDQxMg%3D%3D.2-ccb7-4',\n",
       " 'https://instagram.flos1-1.fna.fbcdn.net/v/t51.2885-15/e35/c0.10.623.623a/195426415_551102705889222_4633974771505738123_n.jpg?tp=1&_nc_ht=instagram.flos1-1.fna.fbcdn.net&_nc_cat=106&_nc_ohc=swscIsugy50AX-idTjK&edm=ABZsPhsBAAAA&ccb=7-4&oh=63b80daf03476c00144efcef50635756&oe=60C5001F&_nc_sid=4efc9f&ig_cache_key=MjU5MDc4NzE0OTc5NDQ0MDE2Ng%3D%3D.2-ccb7-4',\n",
       " 'https://instagram.flos1-1.fna.fbcdn.net/v/t51.2885-15/e35/197937474_182739227102009_4904382811315282392_n.jpg?tp=1&_nc_ht=instagram.flos1-1.fna.fbcdn.net&_nc_cat=105&_nc_ohc=cfaU9uAkdPUAX9gIRGt&tn=YsTa6ZvPU4SaOehN&edm=ABZsPhsBAAAA&ccb=7-4&oh=1ac19f0778bc602281e07db4d1b88c5b&oe=60C4811A&_nc_sid=4efc9f&ig_cache_key=MjU5MDczNzc2NDAyMTM5MDE1Mw%3D%3D.2-ccb7-4',\n",
       " 'https://instagram.flos1-1.fna.fbcdn.net/v/t51.2885-15/e35/197944611_477240786698087_8053787961806250582_n.jpg?tp=1&_nc_ht=instagram.flos1-1.fna.fbcdn.net&_nc_cat=1&_nc_ohc=AMG3W2FYZisAX9o30pi&edm=ABZsPhsBAAAA&ccb=7-4&oh=c195a4d1179943c9728d72079a187854&oe=60C60237&_nc_sid=4efc9f&ig_cache_key=MjU5MDc5OTM2ODk1OTE0OTgwOQ%3D%3D.2-ccb7-4',\n",
       " 'https://instagram.flos1-1.fna.fbcdn.net/v/t51.2885-15/e15/c0.1.640.640a/197328099_1440361182996637_8060614879549516400_n.jpg?tp=1&_nc_ht=instagram.flos1-1.fna.fbcdn.net&_nc_cat=101&_nc_ohc=Fs6q-b0inU0AX_pfZo0&edm=ABZsPhsBAAAA&ccb=7-4&oh=e9cd5c2cf87ea88e4237a645948e48ff&oe=60C42C5C&_nc_sid=4efc9f&ig_cache_key=MjU5MDc3NTI0Nzg0NTUzMDMxNA%3D%3D.2-ccb7-4',\n",
       " 'https://instagram.flos1-1.fna.fbcdn.net/v/t51.2885-15/e35/197763649_1019483455458545_4927498959581204900_n.jpg?tp=1&_nc_ht=instagram.flos1-1.fna.fbcdn.net&_nc_cat=105&_nc_ohc=YeqH2fff-AoAX-YKJTC&edm=ABZsPhsBAAAA&ccb=7-4&oh=81c943bdb21f6746822645343efdbfb7&oe=60C5EDC9&_nc_sid=4efc9f&ig_cache_key=MjU5MDg4MDAzNDUyNTU5OTM5Mw%3D%3D.2-ccb7-4',\n",
       " 'https://instagram.flos1-1.fna.fbcdn.net/v/t51.2885-15/fr/e15/s1080x1080/197465423_789015195146719_8770309301415519485_n.jpg?tp=1&_nc_ht=instagram.flos1-1.fna.fbcdn.net&_nc_cat=107&_nc_ohc=Uw9qR-tLnrUAX9WbYKc&edm=ABZsPhsBAAAA&ccb=7-4&oh=d142200d8a629d22cfecbc7558018e7c&oe=60C60476&_nc_sid=4efc9f&ig_cache_key=MjU5MDg4MDAyOTExNjAwOTY4NQ%3D%3D.2-ccb7-4',\n",
       " 'https://instagram.flos1-1.fna.fbcdn.net/v/t51.2885-15/e35/197742795_320440722879584_4307914522351772972_n.jpg?tp=1&_nc_ht=instagram.flos1-1.fna.fbcdn.net&_nc_cat=108&_nc_ohc=KnhjFJZ_gRIAX_glwXf&edm=ABZsPhsBAAAA&ccb=7-4&oh=ea5ba892d022b04b25e6534d053a0f6f&oe=60C5A6A5&_nc_sid=4efc9f&ig_cache_key=MjU5MDg4MDAwMDg2MzI3ODk4MQ%3D%3D.2-ccb7-4',\n",
       " 'https://instagram.flos1-1.fna.fbcdn.net/v/t51.2885-15/e35/197894824_1165878667248666_470555136606494203_n.jpg?tp=1&_nc_ht=instagram.flos1-1.fna.fbcdn.net&_nc_cat=106&_nc_ohc=dSF3qe7w39wAX-gz6ZG&tn=YsTa6ZvPU4SaOehN&edm=ABZsPhsBAAAA&ccb=7-4&oh=c5897efd388e516129e289f76fa341c8&oe=60C5D1B0&_nc_sid=4efc9f&ig_cache_key=MjU5MDg3OTk5NTIzNDQ3MTYwMQ%3D%3D.2-ccb7-4',\n",
       " 'https://instagram.flos1-1.fna.fbcdn.net/v/t51.2885-15/e35/c0.72.576.576a/196796351_501738167912517_2795132332190873373_n.jpg?tp=1&_nc_ht=instagram.flos1-1.fna.fbcdn.net&_nc_cat=109&_nc_ohc=tl-ZAO91PkIAX8rMliw&tn=YsTa6ZvPU4SaOehN&edm=ABZsPhsBAAAA&ccb=7-4&oh=1a1900faee3e71a7219b17dd7d3fb906&oe=60C46365&_nc_sid=4efc9f&ig_cache_key=MjU5MDg3OTU3NzU0Njk2NTU4Nw%3D%3D.2-ccb7-4',\n",
       " 'https://instagram.flos1-1.fna.fbcdn.net/v/t51.2885-15/e35/197421596_500132437899806_6830165719543402992_n.jpg?tp=1&_nc_ht=instagram.flos1-1.fna.fbcdn.net&_nc_cat=102&_nc_ohc=BmUhhfUrLf4AX9yfs9-&edm=ABZsPhsBAAAA&ccb=7-4&oh=062b8e1ae2a0b4640470090b3bc65254&oe=60C4A196&_nc_sid=4efc9f&ig_cache_key=MjU5MDg3OTk1NDU3NTk4OTk3MQ%3D%3D.2-ccb7-4',\n",
       " 'https://instagram.flos1-1.fna.fbcdn.net/v/t51.2885-15/e35/c0.75.738.738a/198576794_985055628899407_8634177905742105638_n.jpg?tp=1&_nc_ht=instagram.flos1-1.fna.fbcdn.net&_nc_cat=107&_nc_ohc=fWwA6KGRrgUAX8W2oZ0&edm=ABZsPhsBAAAA&ccb=7-4&oh=afb676a765fedabf5cae6c1d07f4629d&oe=60C51AA8&_nc_sid=4efc9f&ig_cache_key=MjU5MDg3OTk0OTg2NzAwODYwMA%3D%3D.2-ccb7-4',\n",
       " 'https://instagram.flos1-1.fna.fbcdn.net/v/t51.2885-15/e35/197426425_162948939178477_3276340780854928252_n.jpg?tp=1&_nc_ht=instagram.flos1-1.fna.fbcdn.net&_nc_cat=101&_nc_ohc=SlDeB1pPIUgAX-VCydr&tn=YsTa6ZvPU4SaOehN&edm=ABZsPhsBAAAA&ccb=7-4&oh=44ff446cf58ad6c849725df9fe418f71&oe=60C5B4C0&_nc_sid=4efc9f&ig_cache_key=MjU5MDg3OTg5NTgyOTk5NTM4Mw%3D%3D.2-ccb7-4',\n",
       " 'https://instagram.flos1-1.fna.fbcdn.net/v/t51.2885-15/e35/197281745_773382159992034_7493119072398780752_n.jpg?tp=1&_nc_ht=instagram.flos1-1.fna.fbcdn.net&_nc_cat=106&_nc_ohc=aoyX1ToCvdcAX9WISe3&edm=ABZsPhsBAAAA&ccb=7-4&oh=115091a83185cfa54939fe3e194ebb8d&oe=60C462A6&_nc_sid=4efc9f&ig_cache_key=MjU5MDg3OTg4ODAxMTMyNzQzNw%3D%3D.2-ccb7-4',\n",
       " 'https://instagram.flos1-1.fna.fbcdn.net/v/t51.2885-15/e35/197747565_317580053299323_8406197676869296360_n.jpg?tp=1&_nc_ht=instagram.flos1-1.fna.fbcdn.net&_nc_cat=103&_nc_ohc=wp9EwfKKI4UAX-JcZ-f&edm=ABZsPhsBAAAA&ccb=7-4&oh=0ee92f1ed2a48bb5dd8c5511eb16f57f&oe=60C59D74&_nc_sid=4efc9f&ig_cache_key=MjU5MDg3OTg4MDgzMDY4OTc0MQ%3D%3D.2-ccb7-4',\n",
       " 'https://instagram.flos1-1.fna.fbcdn.net/v/t51.2885-15/e35/197838590_177038331027114_9002000931174228255_n.jpg?tp=1&_nc_ht=instagram.flos1-1.fna.fbcdn.net&_nc_cat=106&_nc_ohc=UpEc0s6Hl-0AX989hyj&edm=ABZsPhsBAAAA&ccb=7-4&oh=de4ad4f4e41605d9b2130b5ddf72c557&oe=60C55CB6&_nc_sid=4efc9f&ig_cache_key=MjU5MDg3OTg3MTI4NTAwNjY0OA%3D%3D.2-ccb7-4',\n",
       " 'https://instagram.flos1-1.fna.fbcdn.net/v/t51.2885-15/e35/197747793_225679132462059_3766720489726534608_n.jpg?tp=1&_nc_ht=instagram.flos1-1.fna.fbcdn.net&_nc_cat=103&_nc_ohc=LdkaRXrsdDUAX9iwCxG&edm=ABZsPhsBAAAA&ccb=7-4&oh=20e50fdbfe693aa663ec2a54ff9f6537&oe=60C5A5ED&_nc_sid=4efc9f&ig_cache_key=MjU5MDg3OTg2MTc5Njg2MTEyOQ%3D%3D.2-ccb7-4',\n",
       " 'https://instagram.flos1-1.fna.fbcdn.net/v/t51.2885-15/e35/197487306_940484613467370_7140150478246484175_n.jpg?tp=1&_nc_ht=instagram.flos1-1.fna.fbcdn.net&_nc_cat=106&_nc_ohc=juwcZ4PZA7gAX99xPPE&edm=ABZsPhsBAAAA&ccb=7-4&oh=710460c1ac167be668944ad979407dc7&oe=60C609A0&_nc_sid=4efc9f&ig_cache_key=MjU5MDg3OTgzOTMxMzkxNzIzNw%3D%3D.2-ccb7-4',\n",
       " 'https://instagram.flos1-1.fna.fbcdn.net/v/t51.2885-15/e35/197901767_322283249301774_7460516076303634114_n.jpg?tp=1&_nc_ht=instagram.flos1-1.fna.fbcdn.net&_nc_cat=106&_nc_ohc=yjqzo2OzXkAAX_FWYmm&edm=ABZsPhsBAAAA&ccb=7-4&oh=ca269c81af649a4f925dacfc14d4e2ba&oe=60C4719D&_nc_sid=4efc9f&ig_cache_key=MjU5MDg3OTgzMjcyMzY0NTgyMg%3D%3D.2-ccb7-4',\n",
       " 'https://instagram.flos1-1.fna.fbcdn.net/v/t51.2885-15/e35/197599232_614419246191284_3970720348964491511_n.jpg?tp=1&_nc_ht=instagram.flos1-1.fna.fbcdn.net&_nc_cat=108&_nc_ohc=povD_E4oNjQAX_BaBGG&tn=YsTa6ZvPU4SaOehN&edm=ABZsPhsBAAAA&ccb=7-4&oh=54efa77f4bb2ded540e816fa2b077c12&oe=60C5F2E8&_nc_sid=4efc9f&ig_cache_key=MjU5MDg3OTgyMDI4MjEwODY3Mw%3D%3D.2-ccb7-4',\n",
       " 'https://instagram.flos1-1.fna.fbcdn.net/v/t51.2885-15/e35/197867498_533277867702093_7141684473331153858_n.jpg?tp=1&_nc_ht=instagram.flos1-1.fna.fbcdn.net&_nc_cat=109&_nc_ohc=i3vbjCc5i5sAX_-Qj7_&edm=ABZsPhsBAAAA&ccb=7-4&oh=60bd24cd57021581d56bba947ac9f523&oe=60C5384C&_nc_sid=4efc9f&ig_cache_key=MjU5MDg3OTgxMzYwNDc5NTEzNQ%3D%3D.2-ccb7-4',\n",
       " 'https://instagram.flos1-1.fna.fbcdn.net/v/t51.2885-15/e35/197482562_550087312658761_8880330537752167441_n.jpg?tp=1&_nc_ht=instagram.flos1-1.fna.fbcdn.net&_nc_cat=101&_nc_ohc=36J_rmv3XYMAX86-D9I&edm=ABZsPhsBAAAA&ccb=7-4&oh=ab973e556ef1ea880c209629c98d80fb&oe=60C423B8&_nc_sid=4efc9f&ig_cache_key=MjU5MDg3OTgwMTk1OTI2Njk4NA%3D%3D.2-ccb7-4',\n",
       " 'https://instagram.flos1-1.fna.fbcdn.net/v/t51.2885-15/e35/c0.90.720.720a/197095298_381137180000021_6069470862125347895_n.jpg?tp=1&_nc_ht=instagram.flos1-1.fna.fbcdn.net&_nc_cat=105&_nc_ohc=vHe5_LRkFFgAX-gsP_v&edm=ABZsPhsBAAAA&ccb=7-4&oh=34eca2a7652ef74dcac3f3a13d9d2663&oe=60C42453&_nc_sid=4efc9f&ig_cache_key=MjU5MDg3OTU1MjUxNzkxNjQyMQ%3D%3D.2-ccb7-4',\n",
       " 'https://instagram.flos1-1.fna.fbcdn.net/v/t51.2885-15/e35/198196465_1813395925509032_6336102163424950130_n.jpg?tp=1&_nc_ht=instagram.flos1-1.fna.fbcdn.net&_nc_cat=108&_nc_ohc=wp9Sz-hrGG0AX-xKV4t&tn=YsTa6ZvPU4SaOehN&edm=ABZsPhsBAAAA&ccb=7-4&oh=f501ae7e650cbed558ff5fa5f16662c7&oe=60C5C8ED&_nc_sid=4efc9f&ig_cache_key=MjU5MDg3OTc3NTg4MjM4NDE4Mw%3D%3D.2-ccb7-4',\n",
       " 'https://instagram.flos1-1.fna.fbcdn.net/v/t51.2885-15/e35/197344712_126757749559732_1697145535445906545_n.jpg?tp=1&_nc_ht=instagram.flos1-1.fna.fbcdn.net&_nc_cat=104&_nc_ohc=DTGGrGPGGqgAX8tYahI&tn=YsTa6ZvPU4SaOehN&edm=ABZsPhsBAAAA&ccb=7-4&oh=54860f079c82cd34eeaf90e2babf6d15&oe=60C4447A&_nc_sid=4efc9f&ig_cache_key=MjU5MDg3OTc1ODU2NDg2NDg0MQ%3D%3D.2-ccb7-4',\n",
       " 'https://instagram.flos1-1.fna.fbcdn.net/v/t51.2885-15/e35/c0.90.720.720a/198068372_1595773117297056_5359278771378497278_n.jpg?tp=1&_nc_ht=instagram.flos1-1.fna.fbcdn.net&_nc_cat=100&_nc_ohc=UMRBbLCbPTUAX92QYfB&edm=ABZsPhsBAAAA&ccb=7-4&oh=b35cbc1e8d39ded55178a0328b65d22a&oe=60C4B21D&_nc_sid=4efc9f&ig_cache_key=MjU5MDg3OTQ0OTA0MzczNjgxMw%3D%3D.2-ccb7-4',\n",
       " 'https://instagram.flos1-1.fna.fbcdn.net/v/t51.2885-15/e35/198545183_265484571994834_8871478885890073905_n.jpg?tp=1&_nc_ht=instagram.flos1-1.fna.fbcdn.net&_nc_cat=110&_nc_ohc=XcszAD82fogAX_IXzCl&edm=ABZsPhsBAAAA&ccb=7-4&oh=526ccab3963bb6ac3370716aa050b2e3&oe=60C4A74C&_nc_sid=4efc9f&ig_cache_key=MjU5MDg3OTcxODg1NjE3ODkyOA%3D%3D.2-ccb7-4',\n",
       " 'https://instagram.flos1-1.fna.fbcdn.net/v/t51.2885-15/e35/198314834_269334228274350_3642542172549464144_n.jpg?tp=1&_nc_ht=instagram.flos1-1.fna.fbcdn.net&_nc_cat=106&_nc_ohc=ejbf_SkwGQEAX8nLu9b&edm=ABZsPhsBAAAA&ccb=7-4&oh=ed40db43da77023d71f54a2ac7a9849f&oe=60C422CB&_nc_sid=4efc9f&ig_cache_key=MjU5MDg3OTcwODM1MTQyODYwMA%3D%3D.2-ccb7-4',\n",
       " 'https://instagram.flos1-1.fna.fbcdn.net/v/t51.2885-15/e35/197365738_122196996696895_7574178350692322713_n.jpg?tp=1&_nc_ht=instagram.flos1-1.fna.fbcdn.net&_nc_cat=107&_nc_ohc=X8gh214q_qwAX8BXBjo&edm=ABZsPhsBAAAA&ccb=7-4&oh=a8eefa069efa15426f6d204f9839b487&oe=60C5F873&_nc_sid=4efc9f&ig_cache_key=MjU5MDg3OTY4ODkzMzk3MzcxNQ%3D%3D.2-ccb7-4',\n",
       " 'https://instagram.flos1-1.fna.fbcdn.net/v/t51.2885-15/e35/197974384_2823091651275471_5645040554065708744_n.jpg?tp=1&_nc_ht=instagram.flos1-1.fna.fbcdn.net&_nc_cat=103&_nc_ohc=VtviksFlZcwAX8rqWSq&edm=ABZsPhsBAAAA&ccb=7-4&oh=d3022f67731c6eafbc01ff11ffc3bce4&oe=60C434D3&_nc_sid=4efc9f&ig_cache_key=MjU5MDg3OTU5MjE1Mzk2NzQ1Nw%3D%3D.2-ccb7-4',\n",
       " 'https://instagram.flos1-1.fna.fbcdn.net/v/t51.2885-15/e35/197145877_413875302916870_8319926749109259243_n.jpg?tp=1&_nc_ht=instagram.flos1-1.fna.fbcdn.net&_nc_cat=110&_nc_ohc=u6UHPv2oK_kAX-e536q&edm=ABZsPhsBAAAA&ccb=7-4&oh=3ea4350c20f0b09bdac3b005c4675d2b&oe=60C43BED&_nc_sid=4efc9f&ig_cache_key=MjU5MDg3ODg1MDc0MzU5MzU4Mg%3D%3D.2-ccb7-4',\n",
       " 'https://instagram.flos1-1.fna.fbcdn.net/v/t51.2885-15/e35/197404354_337620111317635_6301598769691922136_n.jpg?tp=1&_nc_ht=instagram.flos1-1.fna.fbcdn.net&_nc_cat=107&_nc_ohc=SQQQji8TwFgAX-I7boz&tn=YsTa6ZvPU4SaOehN&edm=ABZsPhsBAAAA&ccb=7-4&oh=13a4db7697f7e5e2b6a25806cd162ae9&oe=60C5812F&_nc_sid=4efc9f&ig_cache_key=MjU5MDg3ODUyNjk3NTg3NTQyOQ%3D%3D.2-ccb7-4',\n",
       " 'https://instagram.flos1-1.fna.fbcdn.net/v/t51.2885-15/e35/196873297_163607709070669_1731129940343281085_n.jpg?tp=1&_nc_ht=instagram.flos1-1.fna.fbcdn.net&_nc_cat=101&_nc_ohc=CtPNrWon46gAX9yPjDj&edm=ABZsPhsBAAAA&ccb=7-4&oh=1d1f939ff99a69ffc6efeb86fbb66824&oe=60C4971F&_nc_sid=4efc9f&ig_cache_key=MjU5MDg3ODQ0NjM3OTI3ODMxMw%3D%3D.2-ccb7-4',\n",
       " 'https://instagram.flos1-1.fna.fbcdn.net/v/t51.2885-15/e35/197029393_1399666613734608_3770325926284181237_n.jpg?tp=1&_nc_ht=instagram.flos1-1.fna.fbcdn.net&_nc_cat=100&_nc_ohc=llbgLvAThsMAX_wS_Gh&edm=ABZsPhsBAAAA&ccb=7-4&oh=5b3cd4361683526cba9ec85d82dfb1eb&oe=60C4ACBF&_nc_sid=4efc9f&ig_cache_key=MjU5MDg0MTYyMjA1ODkzOTMzMg%3D%3D.2-ccb7-4',\n",
       " 'https://instagram.flos1-1.fna.fbcdn.net/v/t51.2885-15/e35/197770172_819389248712704_3358484999011140355_n.jpg?tp=1&_nc_ht=instagram.flos1-1.fna.fbcdn.net&_nc_cat=104&_nc_ohc=3LU1HO26w8IAX_6CBd4&edm=ABZsPhsBAAAA&ccb=7-4&oh=69d979a2b24bdc15bb5a88bb658ee1cb&oe=60C48A62&_nc_sid=4efc9f&ig_cache_key=MjU5MDU5MjYxNDc1MzMyNDE0NQ%3D%3D.2-ccb7-4',\n",
       " 'https://www.instagram.com/static/images/web/mobile_nav_type_logo.png/735145cfe0a4.png',\n",
       " 'https://instagram.fnic4-1.fna.fbcdn.net/v/t51.2885-19/44884218_345707102882519_2446069589734326272_n.jpg?_nc_ht=instagram.fnic4-1.fna.fbcdn.net&_nc_ohc=HcmkQEgPaSEAX_vTRDT&edm=AL4D0a4BAAAA&ccb=7-4&oh=96d06996e2365b85e2a87d59e87642b9&oe=60C4C14F&_nc_sid=712cc3&ig_cache_key=YW5vbnltb3VzX3Byb2ZpbGVfcGlj.2-ccb7-4']"
      ]
     },
     "execution_count": 13,
     "metadata": {},
     "output_type": "execute_result"
    }
   ],
   "source": [
    "driver.execute_script(\"window.scrollTo(0, 4000);\")\n",
    "\n",
    "images = driver.find_elements_by_tag_name(\"img\")\n",
    "images = [image.get_attribute(\"src\") for image in images]\n",
    "\n",
    "images"
   ]
  },
  {
   "cell_type": "code",
   "execution_count": 14,
   "metadata": {},
   "outputs": [
    {
     "data": {
      "text/plain": [
       "'C:\\\\Users\\\\Habib\\\\Documents\\\\python\\\\WEB SCRAPING\\\\EXERCISE\\\\PROJECTS\\\\scraping_Instagram_images\\\\cats'"
      ]
     },
     "execution_count": 14,
     "metadata": {},
     "output_type": "execute_result"
    }
   ],
   "source": [
    "path = os.getcwd()\n",
    "path = os.path.join(path, keyword[1:] + \"s\")\n",
    "\n",
    "os.mkdir(path)\n",
    "path"
   ]
  },
  {
   "cell_type": "code",
   "execution_count": 15,
   "metadata": {},
   "outputs": [
    {
     "name": "stdout",
     "output_type": "stream",
     "text": [
      "100% [..............................................................................] 28350 / 28350"
     ]
    }
   ],
   "source": [
    "counter = 0\n",
    "\n",
    "for image in images:\n",
    "    save_as = os.path.join(path, keyword[1:] + str(counter) + \".jpg\")\n",
    "    wget.download(image, save_as)\n",
    "    counter += 1"
   ]
  }
 ],
 "metadata": {
  "kernelspec": {
   "display_name": "Python 3",
   "language": "python",
   "name": "python3"
  },
  "language_info": {
   "codemirror_mode": {
    "name": "ipython",
    "version": 3
   },
   "file_extension": ".py",
   "mimetype": "text/x-python",
   "name": "python",
   "nbconvert_exporter": "python",
   "pygments_lexer": "ipython3",
   "version": "3.8.5"
  }
 },
 "nbformat": 4,
 "nbformat_minor": 4
}
